{
 "cells": [
  {
   "cell_type": "code",
   "execution_count": 1,
   "id": "257c409f",
   "metadata": {},
   "outputs": [],
   "source": [
    "import seaborn as sns"
   ]
  },
  {
   "cell_type": "code",
   "execution_count": 2,
   "id": "1f3aa1a6",
   "metadata": {},
   "outputs": [],
   "source": [
    "df=sns.load_dataset(\"tips\") #seaborn has preloaded datasets like tips and iris"
   ]
  },
  {
   "cell_type": "code",
   "execution_count": 3,
   "id": "413ac77b",
   "metadata": {},
   "outputs": [
    {
     "data": {
      "text/html": [
       "<div>\n",
       "<style scoped>\n",
       "    .dataframe tbody tr th:only-of-type {\n",
       "        vertical-align: middle;\n",
       "    }\n",
       "\n",
       "    .dataframe tbody tr th {\n",
       "        vertical-align: top;\n",
       "    }\n",
       "\n",
       "    .dataframe thead th {\n",
       "        text-align: right;\n",
       "    }\n",
       "</style>\n",
       "<table border=\"1\" class=\"dataframe\">\n",
       "  <thead>\n",
       "    <tr style=\"text-align: right;\">\n",
       "      <th></th>\n",
       "      <th>total_bill</th>\n",
       "      <th>tip</th>\n",
       "      <th>sex</th>\n",
       "      <th>smoker</th>\n",
       "      <th>day</th>\n",
       "      <th>time</th>\n",
       "      <th>size</th>\n",
       "    </tr>\n",
       "  </thead>\n",
       "  <tbody>\n",
       "    <tr>\n",
       "      <th>0</th>\n",
       "      <td>16.99</td>\n",
       "      <td>1.01</td>\n",
       "      <td>Female</td>\n",
       "      <td>No</td>\n",
       "      <td>Sun</td>\n",
       "      <td>Dinner</td>\n",
       "      <td>2</td>\n",
       "    </tr>\n",
       "    <tr>\n",
       "      <th>1</th>\n",
       "      <td>10.34</td>\n",
       "      <td>1.66</td>\n",
       "      <td>Male</td>\n",
       "      <td>No</td>\n",
       "      <td>Sun</td>\n",
       "      <td>Dinner</td>\n",
       "      <td>3</td>\n",
       "    </tr>\n",
       "    <tr>\n",
       "      <th>2</th>\n",
       "      <td>21.01</td>\n",
       "      <td>3.50</td>\n",
       "      <td>Male</td>\n",
       "      <td>No</td>\n",
       "      <td>Sun</td>\n",
       "      <td>Dinner</td>\n",
       "      <td>3</td>\n",
       "    </tr>\n",
       "    <tr>\n",
       "      <th>3</th>\n",
       "      <td>23.68</td>\n",
       "      <td>3.31</td>\n",
       "      <td>Male</td>\n",
       "      <td>No</td>\n",
       "      <td>Sun</td>\n",
       "      <td>Dinner</td>\n",
       "      <td>2</td>\n",
       "    </tr>\n",
       "    <tr>\n",
       "      <th>4</th>\n",
       "      <td>24.59</td>\n",
       "      <td>3.61</td>\n",
       "      <td>Female</td>\n",
       "      <td>No</td>\n",
       "      <td>Sun</td>\n",
       "      <td>Dinner</td>\n",
       "      <td>4</td>\n",
       "    </tr>\n",
       "    <tr>\n",
       "      <th>...</th>\n",
       "      <td>...</td>\n",
       "      <td>...</td>\n",
       "      <td>...</td>\n",
       "      <td>...</td>\n",
       "      <td>...</td>\n",
       "      <td>...</td>\n",
       "      <td>...</td>\n",
       "    </tr>\n",
       "    <tr>\n",
       "      <th>239</th>\n",
       "      <td>29.03</td>\n",
       "      <td>5.92</td>\n",
       "      <td>Male</td>\n",
       "      <td>No</td>\n",
       "      <td>Sat</td>\n",
       "      <td>Dinner</td>\n",
       "      <td>3</td>\n",
       "    </tr>\n",
       "    <tr>\n",
       "      <th>240</th>\n",
       "      <td>27.18</td>\n",
       "      <td>2.00</td>\n",
       "      <td>Female</td>\n",
       "      <td>Yes</td>\n",
       "      <td>Sat</td>\n",
       "      <td>Dinner</td>\n",
       "      <td>2</td>\n",
       "    </tr>\n",
       "    <tr>\n",
       "      <th>241</th>\n",
       "      <td>22.67</td>\n",
       "      <td>2.00</td>\n",
       "      <td>Male</td>\n",
       "      <td>Yes</td>\n",
       "      <td>Sat</td>\n",
       "      <td>Dinner</td>\n",
       "      <td>2</td>\n",
       "    </tr>\n",
       "    <tr>\n",
       "      <th>242</th>\n",
       "      <td>17.82</td>\n",
       "      <td>1.75</td>\n",
       "      <td>Male</td>\n",
       "      <td>No</td>\n",
       "      <td>Sat</td>\n",
       "      <td>Dinner</td>\n",
       "      <td>2</td>\n",
       "    </tr>\n",
       "    <tr>\n",
       "      <th>243</th>\n",
       "      <td>18.78</td>\n",
       "      <td>3.00</td>\n",
       "      <td>Female</td>\n",
       "      <td>No</td>\n",
       "      <td>Thur</td>\n",
       "      <td>Dinner</td>\n",
       "      <td>2</td>\n",
       "    </tr>\n",
       "  </tbody>\n",
       "</table>\n",
       "<p>244 rows × 7 columns</p>\n",
       "</div>"
      ],
      "text/plain": [
       "     total_bill   tip     sex smoker   day    time  size\n",
       "0         16.99  1.01  Female     No   Sun  Dinner     2\n",
       "1         10.34  1.66    Male     No   Sun  Dinner     3\n",
       "2         21.01  3.50    Male     No   Sun  Dinner     3\n",
       "3         23.68  3.31    Male     No   Sun  Dinner     2\n",
       "4         24.59  3.61  Female     No   Sun  Dinner     4\n",
       "..          ...   ...     ...    ...   ...     ...   ...\n",
       "239       29.03  5.92    Male     No   Sat  Dinner     3\n",
       "240       27.18  2.00  Female    Yes   Sat  Dinner     2\n",
       "241       22.67  2.00    Male    Yes   Sat  Dinner     2\n",
       "242       17.82  1.75    Male     No   Sat  Dinner     2\n",
       "243       18.78  3.00  Female     No  Thur  Dinner     2\n",
       "\n",
       "[244 rows x 7 columns]"
      ]
     },
     "execution_count": 3,
     "metadata": {},
     "output_type": "execute_result"
    }
   ],
   "source": [
    "df"
   ]
  },
  {
   "cell_type": "code",
   "execution_count": 6,
   "id": "7f977e31",
   "metadata": {},
   "outputs": [],
   "source": [
    "import pandas as pd"
   ]
  },
  {
   "cell_type": "code",
   "execution_count": 7,
   "id": "62235ed3",
   "metadata": {},
   "outputs": [],
   "source": [
    "df1=pd.DataFrame()"
   ]
  },
  {
   "cell_type": "code",
   "execution_count": 8,
   "id": "49aa0dcf",
   "metadata": {},
   "outputs": [],
   "source": [
    "df2=pd.DataFrame()"
   ]
  },
  {
   "cell_type": "code",
   "execution_count": 10,
   "id": "b6d225f6",
   "metadata": {},
   "outputs": [],
   "source": [
    "for i in df:\n",
    "    if df[i].dtype==\"category\":\n",
    "        df1=pd.concat([df1,df[i]],axis=1)\n",
    "    else:\n",
    "        df2=pd.concat([df2,df[i]],axis=1)"
   ]
  },
  {
   "cell_type": "code",
   "execution_count": 11,
   "id": "fc80c094",
   "metadata": {},
   "outputs": [
    {
     "data": {
      "text/html": [
       "<div>\n",
       "<style scoped>\n",
       "    .dataframe tbody tr th:only-of-type {\n",
       "        vertical-align: middle;\n",
       "    }\n",
       "\n",
       "    .dataframe tbody tr th {\n",
       "        vertical-align: top;\n",
       "    }\n",
       "\n",
       "    .dataframe thead th {\n",
       "        text-align: right;\n",
       "    }\n",
       "</style>\n",
       "<table border=\"1\" class=\"dataframe\">\n",
       "  <thead>\n",
       "    <tr style=\"text-align: right;\">\n",
       "      <th></th>\n",
       "      <th>total_bill</th>\n",
       "      <th>tip</th>\n",
       "      <th>size</th>\n",
       "    </tr>\n",
       "  </thead>\n",
       "  <tbody>\n",
       "    <tr>\n",
       "      <th>0</th>\n",
       "      <td>16.99</td>\n",
       "      <td>1.01</td>\n",
       "      <td>2</td>\n",
       "    </tr>\n",
       "    <tr>\n",
       "      <th>1</th>\n",
       "      <td>10.34</td>\n",
       "      <td>1.66</td>\n",
       "      <td>3</td>\n",
       "    </tr>\n",
       "    <tr>\n",
       "      <th>2</th>\n",
       "      <td>21.01</td>\n",
       "      <td>3.50</td>\n",
       "      <td>3</td>\n",
       "    </tr>\n",
       "    <tr>\n",
       "      <th>3</th>\n",
       "      <td>23.68</td>\n",
       "      <td>3.31</td>\n",
       "      <td>2</td>\n",
       "    </tr>\n",
       "    <tr>\n",
       "      <th>4</th>\n",
       "      <td>24.59</td>\n",
       "      <td>3.61</td>\n",
       "      <td>4</td>\n",
       "    </tr>\n",
       "    <tr>\n",
       "      <th>...</th>\n",
       "      <td>...</td>\n",
       "      <td>...</td>\n",
       "      <td>...</td>\n",
       "    </tr>\n",
       "    <tr>\n",
       "      <th>239</th>\n",
       "      <td>29.03</td>\n",
       "      <td>5.92</td>\n",
       "      <td>3</td>\n",
       "    </tr>\n",
       "    <tr>\n",
       "      <th>240</th>\n",
       "      <td>27.18</td>\n",
       "      <td>2.00</td>\n",
       "      <td>2</td>\n",
       "    </tr>\n",
       "    <tr>\n",
       "      <th>241</th>\n",
       "      <td>22.67</td>\n",
       "      <td>2.00</td>\n",
       "      <td>2</td>\n",
       "    </tr>\n",
       "    <tr>\n",
       "      <th>242</th>\n",
       "      <td>17.82</td>\n",
       "      <td>1.75</td>\n",
       "      <td>2</td>\n",
       "    </tr>\n",
       "    <tr>\n",
       "      <th>243</th>\n",
       "      <td>18.78</td>\n",
       "      <td>3.00</td>\n",
       "      <td>2</td>\n",
       "    </tr>\n",
       "  </tbody>\n",
       "</table>\n",
       "<p>244 rows × 3 columns</p>\n",
       "</div>"
      ],
      "text/plain": [
       "     total_bill   tip  size\n",
       "0         16.99  1.01     2\n",
       "1         10.34  1.66     3\n",
       "2         21.01  3.50     3\n",
       "3         23.68  3.31     2\n",
       "4         24.59  3.61     4\n",
       "..          ...   ...   ...\n",
       "239       29.03  5.92     3\n",
       "240       27.18  2.00     2\n",
       "241       22.67  2.00     2\n",
       "242       17.82  1.75     2\n",
       "243       18.78  3.00     2\n",
       "\n",
       "[244 rows x 3 columns]"
      ]
     },
     "execution_count": 11,
     "metadata": {},
     "output_type": "execute_result"
    }
   ],
   "source": [
    "df2"
   ]
  },
  {
   "cell_type": "code",
   "execution_count": 13,
   "id": "fa57f6f3",
   "metadata": {},
   "outputs": [
    {
     "data": {
      "text/plain": [
       "<AxesSubplot:>"
      ]
     },
     "execution_count": 13,
     "metadata": {},
     "output_type": "execute_result"
    },
    {
     "data": {
      "image/png": "[encoded data removed]",
      "text/plain": [
       "<Figure size 640x480 with 1 Axes>"
      ]
     },
     "metadata": {},
     "output_type": "display_data"
    }
   ],
   "source": [
    "sns.boxplot(data=df2) #note: if the dataframe is about only numeric columns then boxplot can be drawn without x and y axis"
   ]
  },
  {
   "cell_type": "code",
   "execution_count": null,
   "id": "538c445c",
   "metadata": {},
   "outputs": [],
   "source": [
    "#if the dataframe contains categorical variable in column then x axis(categorical column) can be drawn against yaxis(numerical column)"
   ]
  },
  {
   "cell_type": "code",
   "execution_count": 18,
   "id": "479d24e3",
   "metadata": {},
   "outputs": [
    {
     "data": {
      "text/plain": [
       "<AxesSubplot:xlabel='sex', ylabel='tip'>"
      ]
     },
     "execution_count": 18,
     "metadata": {},
     "output_type": "execute_result"
    },
    {
     "data": {
      "image/png": "[encoded data removed]",
      "text/plain": [
       "<Figure size 640x480 with 1 Axes>"
      ]
     },
     "metadata": {},
     "output_type": "display_data"
    }
   ],
   "source": [
    "sns.boxplot(x=\"sex\",y=\"tip\",data=df)"
   ]
  },
  {
   "cell_type": "raw",
   "id": "09bb0bba",
   "metadata": {},
   "source": [
    "conclusion:\n",
    "male offers more tip than female\n",
    "50% of male  tips lies between 2 rupees and 4 rupees\n",
    "maximum tip gave by male is 10\n",
    "maximum tip gave by female is 6.50\n",
    "minimum tip gave by male and female is 1\n"
   ]
  },
  {
   "cell_type": "code",
   "execution_count": 34,
   "id": "55e9973f",
   "metadata": {},
   "outputs": [],
   "source": [
    "%matplotlib inline"
   ]
  },
  {
   "cell_type": "code",
   "execution_count": 37,
   "id": "581de5e3",
   "metadata": {},
   "outputs": [
    {
     "data": {
      "text/plain": [
       "<AxesSubplot:xlabel='day', ylabel='tip'>"
      ]
     },
     "execution_count": 37,
     "metadata": {},
     "output_type": "execute_result"
    },
    {
     "data": {
      "image/png": "[encoded data removed]",
      "text/plain": [
       "<Figure size 640x480 with 1 Axes>"
      ]
     },
     "metadata": {},
     "output_type": "display_data"
    }
   ],
   "source": [
    "sns.boxplot(x=\"day\",y=\"tip\",data=df)\n"
   ]
  },
  {
   "cell_type": "raw",
   "id": "7e1a5d75",
   "metadata": {},
   "source": [
    "Conclusion:\n",
    "In sunday people gave more tips\n",
    "Compared to week days, in weekend days  maximum tip is recorded "
   ]
  },
  {
   "cell_type": "raw",
   "id": "a348f41d",
   "metadata": {},
   "source": [
    " the hue parameter is used to introduce an additional categorical variable for grouping and distinguishing data. It allows you to create separate boxes within each category based on the values of the hue variable."
   ]
  },
  {
   "cell_type": "code",
   "execution_count": 58,
   "id": "fd911f31",
   "metadata": {},
   "outputs": [
    {
     "data": {
      "text/plain": [
       "<AxesSubplot:xlabel='day', ylabel='tip'>"
      ]
     },
     "execution_count": 58,
     "metadata": {},
     "output_type": "execute_result"
    },
    {
     "data": {
      "image/png": "[encoded data removed]",
      "text/plain": [
       "<Figure size 640x480 with 1 Axes>"
      ]
     },
     "metadata": {},
     "output_type": "display_data"
    }
   ],
   "source": [
    "sns.boxplot(x=\"day\",y=\"tip\",data=df,hue=\"sex\",flierprops=dict(marker=\"D\"))"
   ]
  },
  {
   "cell_type": "raw",
   "id": "0a95f51c",
   "metadata": {},
   "source": [
    "Conclusions:\n",
    "Weekends are recorded high for  tips especially for saturday\n",
    "both male and female gave maximum tips on saturday\n",
    "In weekdays thursday is recorded high for tips compared to friday\n",
    "friday is recorded for minimum tips compared to other days by female(same goes for male)"
   ]
  },
  {
   "cell_type": "code",
   "execution_count": 43,
   "id": "c74c6a36",
   "metadata": {},
   "outputs": [],
   "source": [
    "df2=df.groupby([df[\"day\"],df[\"sex\"]])"
   ]
  },
  {
   "cell_type": "code",
   "execution_count": 47,
   "id": "db054150",
   "metadata": {},
   "outputs": [],
   "source": [
    "pd.set_option(\"display.max_Columns\",24)"
   ]
  },
  {
   "cell_type": "code",
   "execution_count": 48,
   "id": "b83a1df9",
   "metadata": {},
   "outputs": [
    {
     "data": {
      "text/html": [
       "<div>\n",
       "<style scoped>\n",
       "    .dataframe tbody tr th:only-of-type {\n",
       "        vertical-align: middle;\n",
       "    }\n",
       "\n",
       "    .dataframe tbody tr th {\n",
       "        vertical-align: top;\n",
       "    }\n",
       "\n",
       "    .dataframe thead tr th {\n",
       "        text-align: left;\n",
       "    }\n",
       "\n",
       "    .dataframe thead tr:last-of-type th {\n",
       "        text-align: right;\n",
       "    }\n",
       "</style>\n",
       "<table border=\"1\" class=\"dataframe\">\n",
       "  <thead>\n",
       "    <tr>\n",
       "      <th></th>\n",
       "      <th></th>\n",
       "      <th colspan=\"8\" halign=\"left\">total_bill</th>\n",
       "      <th colspan=\"8\" halign=\"left\">tip</th>\n",
       "      <th colspan=\"8\" halign=\"left\">size</th>\n",
       "    </tr>\n",
       "    <tr>\n",
       "      <th></th>\n",
       "      <th></th>\n",
       "      <th>count</th>\n",
       "      <th>mean</th>\n",
       "      <th>std</th>\n",
       "      <th>min</th>\n",
       "      <th>25%</th>\n",
       "      <th>50%</th>\n",
       "      <th>75%</th>\n",
       "      <th>max</th>\n",
       "      <th>count</th>\n",
       "      <th>mean</th>\n",
       "      <th>std</th>\n",
       "      <th>min</th>\n",
       "      <th>25%</th>\n",
       "      <th>50%</th>\n",
       "      <th>75%</th>\n",
       "      <th>max</th>\n",
       "      <th>count</th>\n",
       "      <th>mean</th>\n",
       "      <th>std</th>\n",
       "      <th>min</th>\n",
       "      <th>25%</th>\n",
       "      <th>50%</th>\n",
       "      <th>75%</th>\n",
       "      <th>max</th>\n",
       "    </tr>\n",
       "    <tr>\n",
       "      <th>day</th>\n",
       "      <th>sex</th>\n",
       "      <th></th>\n",
       "      <th></th>\n",
       "      <th></th>\n",
       "      <th></th>\n",
       "      <th></th>\n",
       "      <th></th>\n",
       "      <th></th>\n",
       "      <th></th>\n",
       "      <th></th>\n",
       "      <th></th>\n",
       "      <th></th>\n",
       "      <th></th>\n",
       "      <th></th>\n",
       "      <th></th>\n",
       "      <th></th>\n",
       "      <th></th>\n",
       "      <th></th>\n",
       "      <th></th>\n",
       "      <th></th>\n",
       "      <th></th>\n",
       "      <th></th>\n",
       "      <th></th>\n",
       "      <th></th>\n",
       "      <th></th>\n",
       "    </tr>\n",
       "  </thead>\n",
       "  <tbody>\n",
       "    <tr>\n",
       "      <th rowspan=\"2\" valign=\"top\">Thur</th>\n",
       "      <th>Male</th>\n",
       "      <td>30.0</td>\n",
       "      <td>18.714667</td>\n",
       "      <td>8.019728</td>\n",
       "      <td>7.51</td>\n",
       "      <td>13.6975</td>\n",
       "      <td>16.975</td>\n",
       "      <td>22.3600</td>\n",
       "      <td>41.19</td>\n",
       "      <td>30.0</td>\n",
       "      <td>2.980333</td>\n",
       "      <td>1.353734</td>\n",
       "      <td>1.44</td>\n",
       "      <td>2.0000</td>\n",
       "      <td>2.530</td>\n",
       "      <td>4.0000</td>\n",
       "      <td>6.70</td>\n",
       "      <td>30.0</td>\n",
       "      <td>2.433333</td>\n",
       "      <td>1.006302</td>\n",
       "      <td>2.0</td>\n",
       "      <td>2.0</td>\n",
       "      <td>2.0</td>\n",
       "      <td>2.00</td>\n",
       "      <td>6.0</td>\n",
       "    </tr>\n",
       "    <tr>\n",
       "      <th>Female</th>\n",
       "      <td>32.0</td>\n",
       "      <td>16.715312</td>\n",
       "      <td>7.759764</td>\n",
       "      <td>8.35</td>\n",
       "      <td>12.1625</td>\n",
       "      <td>13.785</td>\n",
       "      <td>18.6750</td>\n",
       "      <td>43.11</td>\n",
       "      <td>32.0</td>\n",
       "      <td>2.575625</td>\n",
       "      <td>1.109286</td>\n",
       "      <td>1.25</td>\n",
       "      <td>1.8225</td>\n",
       "      <td>2.005</td>\n",
       "      <td>3.0575</td>\n",
       "      <td>5.17</td>\n",
       "      <td>32.0</td>\n",
       "      <td>2.468750</td>\n",
       "      <td>1.135480</td>\n",
       "      <td>1.0</td>\n",
       "      <td>2.0</td>\n",
       "      <td>2.0</td>\n",
       "      <td>2.00</td>\n",
       "      <td>6.0</td>\n",
       "    </tr>\n",
       "    <tr>\n",
       "      <th rowspan=\"2\" valign=\"top\">Fri</th>\n",
       "      <th>Male</th>\n",
       "      <td>10.0</td>\n",
       "      <td>19.857000</td>\n",
       "      <td>10.015847</td>\n",
       "      <td>8.58</td>\n",
       "      <td>12.2350</td>\n",
       "      <td>17.215</td>\n",
       "      <td>26.0825</td>\n",
       "      <td>40.17</td>\n",
       "      <td>10.0</td>\n",
       "      <td>2.693000</td>\n",
       "      <td>1.136428</td>\n",
       "      <td>1.50</td>\n",
       "      <td>1.6650</td>\n",
       "      <td>2.600</td>\n",
       "      <td>3.3750</td>\n",
       "      <td>4.73</td>\n",
       "      <td>10.0</td>\n",
       "      <td>2.100000</td>\n",
       "      <td>0.737865</td>\n",
       "      <td>1.0</td>\n",
       "      <td>2.0</td>\n",
       "      <td>2.0</td>\n",
       "      <td>2.00</td>\n",
       "      <td>4.0</td>\n",
       "    </tr>\n",
       "    <tr>\n",
       "      <th>Female</th>\n",
       "      <td>9.0</td>\n",
       "      <td>14.145556</td>\n",
       "      <td>4.788547</td>\n",
       "      <td>5.75</td>\n",
       "      <td>11.3500</td>\n",
       "      <td>15.380</td>\n",
       "      <td>16.2700</td>\n",
       "      <td>22.75</td>\n",
       "      <td>9.0</td>\n",
       "      <td>2.781111</td>\n",
       "      <td>0.938862</td>\n",
       "      <td>1.00</td>\n",
       "      <td>2.5000</td>\n",
       "      <td>3.000</td>\n",
       "      <td>3.2500</td>\n",
       "      <td>4.30</td>\n",
       "      <td>9.0</td>\n",
       "      <td>2.111111</td>\n",
       "      <td>0.333333</td>\n",
       "      <td>2.0</td>\n",
       "      <td>2.0</td>\n",
       "      <td>2.0</td>\n",
       "      <td>2.00</td>\n",
       "      <td>3.0</td>\n",
       "    </tr>\n",
       "    <tr>\n",
       "      <th rowspan=\"2\" valign=\"top\">Sat</th>\n",
       "      <th>Male</th>\n",
       "      <td>59.0</td>\n",
       "      <td>20.802542</td>\n",
       "      <td>9.836306</td>\n",
       "      <td>7.74</td>\n",
       "      <td>13.9050</td>\n",
       "      <td>18.240</td>\n",
       "      <td>24.1650</td>\n",
       "      <td>50.81</td>\n",
       "      <td>59.0</td>\n",
       "      <td>3.083898</td>\n",
       "      <td>1.791360</td>\n",
       "      <td>1.00</td>\n",
       "      <td>2.0000</td>\n",
       "      <td>3.000</td>\n",
       "      <td>3.4000</td>\n",
       "      <td>10.00</td>\n",
       "      <td>59.0</td>\n",
       "      <td>2.644068</td>\n",
       "      <td>0.846142</td>\n",
       "      <td>2.0</td>\n",
       "      <td>2.0</td>\n",
       "      <td>2.0</td>\n",
       "      <td>3.00</td>\n",
       "      <td>5.0</td>\n",
       "    </tr>\n",
       "    <tr>\n",
       "      <th>Female</th>\n",
       "      <td>28.0</td>\n",
       "      <td>19.680357</td>\n",
       "      <td>8.806470</td>\n",
       "      <td>3.07</td>\n",
       "      <td>14.0500</td>\n",
       "      <td>18.360</td>\n",
       "      <td>25.5625</td>\n",
       "      <td>44.30</td>\n",
       "      <td>28.0</td>\n",
       "      <td>2.801786</td>\n",
       "      <td>1.234480</td>\n",
       "      <td>1.00</td>\n",
       "      <td>2.1500</td>\n",
       "      <td>2.625</td>\n",
       "      <td>3.1025</td>\n",
       "      <td>6.50</td>\n",
       "      <td>28.0</td>\n",
       "      <td>2.250000</td>\n",
       "      <td>0.700529</td>\n",
       "      <td>1.0</td>\n",
       "      <td>2.0</td>\n",
       "      <td>2.0</td>\n",
       "      <td>2.25</td>\n",
       "      <td>4.0</td>\n",
       "    </tr>\n",
       "    <tr>\n",
       "      <th rowspan=\"2\" valign=\"top\">Sun</th>\n",
       "      <th>Male</th>\n",
       "      <td>58.0</td>\n",
       "      <td>21.887241</td>\n",
       "      <td>9.129142</td>\n",
       "      <td>7.25</td>\n",
       "      <td>15.1350</td>\n",
       "      <td>20.725</td>\n",
       "      <td>26.5500</td>\n",
       "      <td>48.17</td>\n",
       "      <td>58.0</td>\n",
       "      <td>3.220345</td>\n",
       "      <td>1.271172</td>\n",
       "      <td>1.32</td>\n",
       "      <td>2.0000</td>\n",
       "      <td>3.085</td>\n",
       "      <td>3.9800</td>\n",
       "      <td>6.50</td>\n",
       "      <td>58.0</td>\n",
       "      <td>2.810345</td>\n",
       "      <td>1.033762</td>\n",
       "      <td>2.0</td>\n",
       "      <td>2.0</td>\n",
       "      <td>2.0</td>\n",
       "      <td>4.00</td>\n",
       "      <td>6.0</td>\n",
       "    </tr>\n",
       "    <tr>\n",
       "      <th>Female</th>\n",
       "      <td>18.0</td>\n",
       "      <td>19.872222</td>\n",
       "      <td>7.837513</td>\n",
       "      <td>9.60</td>\n",
       "      <td>15.1750</td>\n",
       "      <td>17.410</td>\n",
       "      <td>24.8975</td>\n",
       "      <td>35.26</td>\n",
       "      <td>18.0</td>\n",
       "      <td>3.367222</td>\n",
       "      <td>1.136775</td>\n",
       "      <td>1.01</td>\n",
       "      <td>2.7075</td>\n",
       "      <td>3.500</td>\n",
       "      <td>3.9375</td>\n",
       "      <td>5.20</td>\n",
       "      <td>18.0</td>\n",
       "      <td>2.944444</td>\n",
       "      <td>0.937595</td>\n",
       "      <td>2.0</td>\n",
       "      <td>2.0</td>\n",
       "      <td>3.0</td>\n",
       "      <td>3.75</td>\n",
       "      <td>5.0</td>\n",
       "    </tr>\n",
       "  </tbody>\n",
       "</table>\n",
       "</div>"
      ],
      "text/plain": [
       "            total_bill                                                        \\\n",
       "                 count       mean        std   min      25%     50%      75%   \n",
       "day  sex                                                                       \n",
       "Thur Male         30.0  18.714667   8.019728  7.51  13.6975  16.975  22.3600   \n",
       "     Female       32.0  16.715312   7.759764  8.35  12.1625  13.785  18.6750   \n",
       "Fri  Male         10.0  19.857000  10.015847  8.58  12.2350  17.215  26.0825   \n",
       "     Female        9.0  14.145556   4.788547  5.75  11.3500  15.380  16.2700   \n",
       "Sat  Male         59.0  20.802542   9.836306  7.74  13.9050  18.240  24.1650   \n",
       "     Female       28.0  19.680357   8.806470  3.07  14.0500  18.360  25.5625   \n",
       "Sun  Male         58.0  21.887241   9.129142  7.25  15.1350  20.725  26.5500   \n",
       "     Female       18.0  19.872222   7.837513  9.60  15.1750  17.410  24.8975   \n",
       "\n",
       "                     tip                                                   \\\n",
       "               max count      mean       std   min     25%    50%     75%   \n",
       "day  sex                                                                    \n",
       "Thur Male    41.19  30.0  2.980333  1.353734  1.44  2.0000  2.530  4.0000   \n",
       "     Female  43.11  32.0  2.575625  1.109286  1.25  1.8225  2.005  3.0575   \n",
       "Fri  Male    40.17  10.0  2.693000  1.136428  1.50  1.6650  2.600  3.3750   \n",
       "     Female  22.75   9.0  2.781111  0.938862  1.00  2.5000  3.000  3.2500   \n",
       "Sat  Male    50.81  59.0  3.083898  1.791360  1.00  2.0000  3.000  3.4000   \n",
       "     Female  44.30  28.0  2.801786  1.234480  1.00  2.1500  2.625  3.1025   \n",
       "Sun  Male    48.17  58.0  3.220345  1.271172  1.32  2.0000  3.085  3.9800   \n",
       "     Female  35.26  18.0  3.367222  1.136775  1.01  2.7075  3.500  3.9375   \n",
       "\n",
       "                    size                                                \n",
       "               max count      mean       std  min  25%  50%   75%  max  \n",
       "day  sex                                                                \n",
       "Thur Male     6.70  30.0  2.433333  1.006302  2.0  2.0  2.0  2.00  6.0  \n",
       "     Female   5.17  32.0  2.468750  1.135480  1.0  2.0  2.0  2.00  6.0  \n",
       "Fri  Male     4.73  10.0  2.100000  0.737865  1.0  2.0  2.0  2.00  4.0  \n",
       "     Female   4.30   9.0  2.111111  0.333333  2.0  2.0  2.0  2.00  3.0  \n",
       "Sat  Male    10.00  59.0  2.644068  0.846142  2.0  2.0  2.0  3.00  5.0  \n",
       "     Female   6.50  28.0  2.250000  0.700529  1.0  2.0  2.0  2.25  4.0  \n",
       "Sun  Male     6.50  58.0  2.810345  1.033762  2.0  2.0  2.0  4.00  6.0  \n",
       "     Female   5.20  18.0  2.944444  0.937595  2.0  2.0  3.0  3.75  5.0  "
      ]
     },
     "execution_count": 48,
     "metadata": {},
     "output_type": "execute_result"
    }
   ],
   "source": [
    "df2.describe()"
   ]
  },
  {
   "cell_type": "code",
   "execution_count": 55,
   "id": "b72cea12",
   "metadata": {},
   "outputs": [
    {
     "data": {
      "text/html": [
       "<div>\n",
       "<style scoped>\n",
       "    .dataframe tbody tr th:only-of-type {\n",
       "        vertical-align: middle;\n",
       "    }\n",
       "\n",
       "    .dataframe tbody tr th {\n",
       "        vertical-align: top;\n",
       "    }\n",
       "\n",
       "    .dataframe thead th {\n",
       "        text-align: right;\n",
       "    }\n",
       "</style>\n",
       "<table border=\"1\" class=\"dataframe\">\n",
       "  <thead>\n",
       "    <tr style=\"text-align: right;\">\n",
       "      <th></th>\n",
       "      <th></th>\n",
       "      <th>total_bill</th>\n",
       "      <th>tip</th>\n",
       "      <th>size</th>\n",
       "    </tr>\n",
       "    <tr>\n",
       "      <th>day</th>\n",
       "      <th>sex</th>\n",
       "      <th></th>\n",
       "      <th></th>\n",
       "      <th></th>\n",
       "    </tr>\n",
       "  </thead>\n",
       "  <tbody>\n",
       "    <tr>\n",
       "      <th rowspan=\"2\" valign=\"top\">Thur</th>\n",
       "      <th>Male</th>\n",
       "      <td>561.44</td>\n",
       "      <td>89.41</td>\n",
       "      <td>73</td>\n",
       "    </tr>\n",
       "    <tr>\n",
       "      <th>Female</th>\n",
       "      <td>534.89</td>\n",
       "      <td>82.42</td>\n",
       "      <td>79</td>\n",
       "    </tr>\n",
       "    <tr>\n",
       "      <th rowspan=\"2\" valign=\"top\">Fri</th>\n",
       "      <th>Male</th>\n",
       "      <td>198.57</td>\n",
       "      <td>26.93</td>\n",
       "      <td>21</td>\n",
       "    </tr>\n",
       "    <tr>\n",
       "      <th>Female</th>\n",
       "      <td>127.31</td>\n",
       "      <td>25.03</td>\n",
       "      <td>19</td>\n",
       "    </tr>\n",
       "    <tr>\n",
       "      <th rowspan=\"2\" valign=\"top\">Sat</th>\n",
       "      <th>Male</th>\n",
       "      <td>1227.35</td>\n",
       "      <td>181.95</td>\n",
       "      <td>156</td>\n",
       "    </tr>\n",
       "    <tr>\n",
       "      <th>Female</th>\n",
       "      <td>551.05</td>\n",
       "      <td>78.45</td>\n",
       "      <td>63</td>\n",
       "    </tr>\n",
       "    <tr>\n",
       "      <th rowspan=\"2\" valign=\"top\">Sun</th>\n",
       "      <th>Male</th>\n",
       "      <td>1269.46</td>\n",
       "      <td>186.78</td>\n",
       "      <td>163</td>\n",
       "    </tr>\n",
       "    <tr>\n",
       "      <th>Female</th>\n",
       "      <td>357.70</td>\n",
       "      <td>60.61</td>\n",
       "      <td>53</td>\n",
       "    </tr>\n",
       "  </tbody>\n",
       "</table>\n",
       "</div>"
      ],
      "text/plain": [
       "             total_bill     tip  size\n",
       "day  sex                             \n",
       "Thur Male        561.44   89.41    73\n",
       "     Female      534.89   82.42    79\n",
       "Fri  Male        198.57   26.93    21\n",
       "     Female      127.31   25.03    19\n",
       "Sat  Male       1227.35  181.95   156\n",
       "     Female      551.05   78.45    63\n",
       "Sun  Male       1269.46  186.78   163\n",
       "     Female      357.70   60.61    53"
      ]
     },
     "execution_count": 55,
     "metadata": {},
     "output_type": "execute_result"
    }
   ],
   "source": [
    "df2.sum()"
   ]
  },
  {
   "cell_type": "code",
   "execution_count": 50,
   "id": "b3db0425",
   "metadata": {},
   "outputs": [
    {
     "data": {
      "text/html": [
       "<div>\n",
       "<style scoped>\n",
       "    .dataframe tbody tr th:only-of-type {\n",
       "        vertical-align: middle;\n",
       "    }\n",
       "\n",
       "    .dataframe tbody tr th {\n",
       "        vertical-align: top;\n",
       "    }\n",
       "\n",
       "    .dataframe thead th {\n",
       "        text-align: right;\n",
       "    }\n",
       "</style>\n",
       "<table border=\"1\" class=\"dataframe\">\n",
       "  <thead>\n",
       "    <tr style=\"text-align: right;\">\n",
       "      <th></th>\n",
       "      <th>total_bill</th>\n",
       "      <th>tip</th>\n",
       "      <th>size</th>\n",
       "    </tr>\n",
       "    <tr>\n",
       "      <th>day</th>\n",
       "      <th></th>\n",
       "      <th></th>\n",
       "      <th></th>\n",
       "    </tr>\n",
       "  </thead>\n",
       "  <tbody>\n",
       "    <tr>\n",
       "      <th>Thur</th>\n",
       "      <td>1096.33</td>\n",
       "      <td>171.83</td>\n",
       "      <td>152</td>\n",
       "    </tr>\n",
       "    <tr>\n",
       "      <th>Fri</th>\n",
       "      <td>325.88</td>\n",
       "      <td>51.96</td>\n",
       "      <td>40</td>\n",
       "    </tr>\n",
       "    <tr>\n",
       "      <th>Sat</th>\n",
       "      <td>1778.40</td>\n",
       "      <td>260.40</td>\n",
       "      <td>219</td>\n",
       "    </tr>\n",
       "    <tr>\n",
       "      <th>Sun</th>\n",
       "      <td>1627.16</td>\n",
       "      <td>247.39</td>\n",
       "      <td>216</td>\n",
       "    </tr>\n",
       "  </tbody>\n",
       "</table>\n",
       "</div>"
      ],
      "text/plain": [
       "      total_bill     tip  size\n",
       "day                           \n",
       "Thur     1096.33  171.83   152\n",
       "Fri       325.88   51.96    40\n",
       "Sat      1778.40  260.40   219\n",
       "Sun      1627.16  247.39   216"
      ]
     },
     "execution_count": 50,
     "metadata": {},
     "output_type": "execute_result"
    }
   ],
   "source": [
    "df.groupby(\"day\").sum()"
   ]
  },
  {
   "cell_type": "raw",
   "id": "902f7fdf",
   "metadata": {},
   "source": [
    "#palettes\n",
    "palettes available:\n",
    "\"deep\": A set of colors that are suitable for plotting multiple categories with distinct colors.\n",
    "\"muted\": A muted set of colors that are visually pleasing and suitable for general use.\n",
    "\"bright\": A set of bright and bold colors that can be useful for emphasizing specific categories.\n",
    "\"pastel\": A set of soft and light colors that work well for creating visually pleasing plots.\n",
    "\"dark\": A set of dark colors that can be useful for creating high-contrast plots.\n",
    "In addition to these, seaborn also provides other palettes like \"colorblind\", \"husl\", and \"Set1\" (upto set3 available)to cater to different colorblind-friendly and aesthetic needs.\n",
    "    "
   ]
  },
  {
   "cell_type": "code",
   "execution_count": 72,
   "id": "5974f5ba",
   "metadata": {},
   "outputs": [
    {
     "data": {
      "text/plain": [
       "<AxesSubplot:xlabel='day', ylabel='tip'>"
      ]
     },
     "execution_count": 72,
     "metadata": {},
     "output_type": "execute_result"
    },
    {
     "data": {
      "image/png": "[encoded data removed]",
      "text/plain": [
       "<Figure size 640x480 with 1 Axes>"
      ]
     },
     "metadata": {},
     "output_type": "display_data"
    }
   ],
   "source": [
    "sns.boxplot(x=\"day\",y=\"tip\",data=df,hue=\"sex\",flierprops=dict(marker=\"D\"),palette=\"pastel\")"
   ]
  },
  {
   "cell_type": "code",
   "execution_count": null,
   "id": "c0461c6f",
   "metadata": {},
   "outputs": [],
   "source": [
    "#we can give the order we want give in x axis\n"
   ]
  },
  {
   "cell_type": "code",
   "execution_count": 77,
   "id": "784a079e",
   "metadata": {},
   "outputs": [
    {
     "data": {
      "text/plain": [
       "<AxesSubplot:xlabel='day', ylabel='tip'>"
      ]
     },
     "execution_count": 77,
     "metadata": {},
     "output_type": "execute_result"
    },
    {
     "data": {
      "image/png": "[encoded data removed]",
      "text/plain": [
       "<Figure size 640x480 with 1 Axes>"
      ]
     },
     "metadata": {},
     "output_type": "display_data"
    }
   ],
   "source": [
    "sns.boxplot(x=\"day\",y=\"tip\",data=df,hue=\"sex\",flierprops=dict(marker=\"D\"),palette=\"Set2\",order=[\"Sun\",\"Thur\",\"Fri\",\"Sat\"])"
   ]
  },
  {
   "cell_type": "code",
   "execution_count": 76,
   "id": "351e3ab0",
   "metadata": {},
   "outputs": [
    {
     "data": {
      "text/plain": [
       "<AxesSubplot:xlabel='day', ylabel='total_bill'>"
      ]
     },
     "execution_count": 76,
     "metadata": {},
     "output_type": "execute_result"
    },
    {
     "data": {
      "image/png": "[encoded data removed]",
      "text/plain": [
       "<Figure size 640x480 with 1 Axes>"
      ]
     },
     "metadata": {},
     "output_type": "display_data"
    }
   ],
   "source": [
    "sns.boxplot(x=\"day\",y=\"total_bill\",data=df,hue=\"sex\",flierprops=dict(marker=\"D\"),palette=\"Set3\")"
   ]
  },
  {
   "cell_type": "raw",
   "id": "11b1ada4",
   "metadata": {},
   "source": [
    "Conclusion:\n",
    "    In saturday recorded higher total bills compared to all other days\n",
    "    Friday recorded lesser total bills compared to other days"
   ]
  },
  {
   "cell_type": "code",
   "execution_count": 80,
   "id": "e641668a",
   "metadata": {},
   "outputs": [
    {
     "data": {
      "text/plain": [
       "<AxesSubplot:xlabel='time', ylabel='total_bill'>"
      ]
     },
     "execution_count": 80,
     "metadata": {},
     "output_type": "execute_result"
    },
    {
     "data": {
      "image/png": "[encoded data removed]",
      "text/plain": [
       "<Figure size 640x480 with 1 Axes>"
      ]
     },
     "metadata": {},
     "output_type": "display_data"
    }
   ],
   "source": [
    "sns.boxplot(x=\"time\",y=\"total_bill\",data=df,hue=\"sex\",flierprops=dict(marker=\"D\"),palette=\"dark\",medianprops=dict(color=\"white\"))"
   ]
  },
  {
   "cell_type": "raw",
   "id": "cb6b0166",
   "metadata": {},
   "source": [
    "Conclusion:\n",
    "Compared to lunch time more customers visited dinner"
   ]
  },
  {
   "cell_type": "code",
   "execution_count": 87,
   "id": "44c6fc22",
   "metadata": {},
   "outputs": [
    {
     "data": {
      "text/plain": [
       "<AxesSubplot:xlabel='day', ylabel='total_bill'>"
      ]
     },
     "execution_count": 87,
     "metadata": {},
     "output_type": "execute_result"
    },
    {
     "data": {
      "image/png": "[encoded data removed]",
      "text/plain": [
       "<Figure size 640x480 with 1 Axes>"
      ]
     },
     "metadata": {},
     "output_type": "display_data"
    }
   ],
   "source": [
    "sns.boxplot(x=\"day\",y=\"total_bill\",data=df,hue=\"time\",flierprops=dict(marker=\"D\"),palette=\"husl\",medianprops=dict(color=\"white\"))"
   ]
  },
  {
   "cell_type": "raw",
   "id": "e6e7de61",
   "metadata": {},
   "source": [
    "Conclusions:\n",
    "In saturday and sunday customers visited only for dinner not for lunch(So the shop can improve their dinner cuisines  to gain more profit)\n"
   ]
  },
  {
   "cell_type": "code",
   "execution_count": null,
   "id": "96b431c4",
   "metadata": {},
   "outputs": [],
   "source": []
  }
 ],
 "metadata": {
  "kernelspec": {
   "display_name": "Python 3 (ipykernel)",
   "language": "python",
   "name": "python3"
  },
  "language_info": {
   "codemirror_mode": {
    "name": "ipython",
    "version": 3
   },
   "file_extension": ".py",
   "mimetype": "text/x-python",
   "name": "python",
   "nbconvert_exporter": "python",
   "pygments_lexer": "ipython3",
   "version": "3.9.13"
  }
 },
 "nbformat": 4,
 "nbformat_minor": 5
}
